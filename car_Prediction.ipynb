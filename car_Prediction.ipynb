{
  "nbformat": 4,
  "nbformat_minor": 0,
  "metadata": {
    "kernelspec": {
      "display_name": "Python 3",
      "language": "python",
      "name": "python3"
    },
    "language_info": {
      "codemirror_mode": {
        "name": "ipython",
        "version": 3
      },
      "file_extension": ".py",
      "mimetype": "text/x-python",
      "name": "python",
      "nbconvert_exporter": "python",
      "pygments_lexer": "ipython3",
      "version": "3.8.3"
    },
    "colab": {
      "name": "car Prediction.ipynb",
      "provenance": [],
      "toc_visible": true
    }
  },
  "cells": [
    {
      "cell_type": "markdown",
      "metadata": {
        "id": "qWEXm-DrVyBy"
      },
      "source": [
        "**importing the required libraries**\n",
        "\n",
        "\n"
      ]
    },
    {
      "cell_type": "code",
      "metadata": {
        "id": "TtNZTr7xVtJJ"
      },
      "source": [
        "import pandas as pd\n",
        "from sklearn.preprocessing import LabelEncoder\n",
        "import numpy as np\n",
        "pd.options.display.max_rows = 4000"
      ],
      "execution_count": null,
      "outputs": []
    },
    {
      "cell_type": "code",
      "metadata": {
        "id": "82Jp4-TpVNda"
      },
      "source": [
        "df2=pd.read_csv('train-data.csv')"
      ],
      "execution_count": 17,
      "outputs": []
    },
    {
      "cell_type": "code",
      "metadata": {
        "colab": {
          "base_uri": "https://localhost:8080/",
          "height": 363
        },
        "id": "N458DxjkW9dF",
        "outputId": "fe0c9b44-55fe-4a53-8019-c0881f98676b"
      },
      "source": [
        "df2.head(10)"
      ],
      "execution_count": 20,
      "outputs": [
        {
          "output_type": "execute_result",
          "data": {
            "text/html": [
              "<div>\n",
              "<style scoped>\n",
              "    .dataframe tbody tr th:only-of-type {\n",
              "        vertical-align: middle;\n",
              "    }\n",
              "\n",
              "    .dataframe tbody tr th {\n",
              "        vertical-align: top;\n",
              "    }\n",
              "\n",
              "    .dataframe thead th {\n",
              "        text-align: right;\n",
              "    }\n",
              "</style>\n",
              "<table border=\"1\" class=\"dataframe\">\n",
              "  <thead>\n",
              "    <tr style=\"text-align: right;\">\n",
              "      <th></th>\n",
              "      <th>Name</th>\n",
              "      <th>Location</th>\n",
              "      <th>Year</th>\n",
              "      <th>Kilometers_Driven</th>\n",
              "      <th>Fuel_Type</th>\n",
              "      <th>Transmission</th>\n",
              "      <th>Owner_Type</th>\n",
              "      <th>Mileage</th>\n",
              "      <th>Engine</th>\n",
              "      <th>Power</th>\n",
              "      <th>Seats</th>\n",
              "      <th>New_Price</th>\n",
              "      <th>Price</th>\n",
              "    </tr>\n",
              "  </thead>\n",
              "  <tbody>\n",
              "    <tr>\n",
              "      <th>0</th>\n",
              "      <td>Maruti Wagon R LXI CNG</td>\n",
              "      <td>Mumbai</td>\n",
              "      <td>2010</td>\n",
              "      <td>72000</td>\n",
              "      <td>CNG</td>\n",
              "      <td>Manual</td>\n",
              "      <td>First</td>\n",
              "      <td>26.6 km/kg</td>\n",
              "      <td>998 CC</td>\n",
              "      <td>58.16 bhp</td>\n",
              "      <td>5.0</td>\n",
              "      <td>NaN</td>\n",
              "      <td>1.75</td>\n",
              "    </tr>\n",
              "    <tr>\n",
              "      <th>1</th>\n",
              "      <td>Hyundai Creta 1.6 CRDi SX Option</td>\n",
              "      <td>Pune</td>\n",
              "      <td>2015</td>\n",
              "      <td>41000</td>\n",
              "      <td>Diesel</td>\n",
              "      <td>Manual</td>\n",
              "      <td>First</td>\n",
              "      <td>19.67 kmpl</td>\n",
              "      <td>1582 CC</td>\n",
              "      <td>126.2 bhp</td>\n",
              "      <td>5.0</td>\n",
              "      <td>NaN</td>\n",
              "      <td>12.50</td>\n",
              "    </tr>\n",
              "    <tr>\n",
              "      <th>2</th>\n",
              "      <td>Honda Jazz V</td>\n",
              "      <td>Chennai</td>\n",
              "      <td>2011</td>\n",
              "      <td>46000</td>\n",
              "      <td>Petrol</td>\n",
              "      <td>Manual</td>\n",
              "      <td>First</td>\n",
              "      <td>18.2 kmpl</td>\n",
              "      <td>1199 CC</td>\n",
              "      <td>88.7 bhp</td>\n",
              "      <td>5.0</td>\n",
              "      <td>8.61 Lakh</td>\n",
              "      <td>4.50</td>\n",
              "    </tr>\n",
              "    <tr>\n",
              "      <th>3</th>\n",
              "      <td>Maruti Ertiga VDI</td>\n",
              "      <td>Chennai</td>\n",
              "      <td>2012</td>\n",
              "      <td>87000</td>\n",
              "      <td>Diesel</td>\n",
              "      <td>Manual</td>\n",
              "      <td>First</td>\n",
              "      <td>20.77 kmpl</td>\n",
              "      <td>1248 CC</td>\n",
              "      <td>88.76 bhp</td>\n",
              "      <td>7.0</td>\n",
              "      <td>NaN</td>\n",
              "      <td>6.00</td>\n",
              "    </tr>\n",
              "    <tr>\n",
              "      <th>4</th>\n",
              "      <td>Audi A4 New 2.0 TDI Multitronic</td>\n",
              "      <td>Coimbatore</td>\n",
              "      <td>2013</td>\n",
              "      <td>40670</td>\n",
              "      <td>Diesel</td>\n",
              "      <td>Automatic</td>\n",
              "      <td>Second</td>\n",
              "      <td>15.2 kmpl</td>\n",
              "      <td>1968 CC</td>\n",
              "      <td>140.8 bhp</td>\n",
              "      <td>5.0</td>\n",
              "      <td>NaN</td>\n",
              "      <td>17.74</td>\n",
              "    </tr>\n",
              "    <tr>\n",
              "      <th>5</th>\n",
              "      <td>Hyundai EON LPG Era Plus Option</td>\n",
              "      <td>Hyderabad</td>\n",
              "      <td>2012</td>\n",
              "      <td>75000</td>\n",
              "      <td>LPG</td>\n",
              "      <td>Manual</td>\n",
              "      <td>First</td>\n",
              "      <td>21.1 km/kg</td>\n",
              "      <td>814 CC</td>\n",
              "      <td>55.2 bhp</td>\n",
              "      <td>5.0</td>\n",
              "      <td>NaN</td>\n",
              "      <td>2.35</td>\n",
              "    </tr>\n",
              "    <tr>\n",
              "      <th>6</th>\n",
              "      <td>Nissan Micra Diesel XV</td>\n",
              "      <td>Jaipur</td>\n",
              "      <td>2013</td>\n",
              "      <td>86999</td>\n",
              "      <td>Diesel</td>\n",
              "      <td>Manual</td>\n",
              "      <td>First</td>\n",
              "      <td>23.08 kmpl</td>\n",
              "      <td>1461 CC</td>\n",
              "      <td>63.1 bhp</td>\n",
              "      <td>5.0</td>\n",
              "      <td>NaN</td>\n",
              "      <td>3.50</td>\n",
              "    </tr>\n",
              "    <tr>\n",
              "      <th>7</th>\n",
              "      <td>Toyota Innova Crysta 2.8 GX AT 8S</td>\n",
              "      <td>Mumbai</td>\n",
              "      <td>2016</td>\n",
              "      <td>36000</td>\n",
              "      <td>Diesel</td>\n",
              "      <td>Automatic</td>\n",
              "      <td>First</td>\n",
              "      <td>11.36 kmpl</td>\n",
              "      <td>2755 CC</td>\n",
              "      <td>171.5 bhp</td>\n",
              "      <td>8.0</td>\n",
              "      <td>21 Lakh</td>\n",
              "      <td>17.50</td>\n",
              "    </tr>\n",
              "    <tr>\n",
              "      <th>8</th>\n",
              "      <td>Volkswagen Vento Diesel Comfortline</td>\n",
              "      <td>Pune</td>\n",
              "      <td>2013</td>\n",
              "      <td>64430</td>\n",
              "      <td>Diesel</td>\n",
              "      <td>Manual</td>\n",
              "      <td>First</td>\n",
              "      <td>20.54 kmpl</td>\n",
              "      <td>1598 CC</td>\n",
              "      <td>103.6 bhp</td>\n",
              "      <td>5.0</td>\n",
              "      <td>NaN</td>\n",
              "      <td>5.20</td>\n",
              "    </tr>\n",
              "    <tr>\n",
              "      <th>9</th>\n",
              "      <td>Tata Indica Vista Quadrajet LS</td>\n",
              "      <td>Chennai</td>\n",
              "      <td>2012</td>\n",
              "      <td>65932</td>\n",
              "      <td>Diesel</td>\n",
              "      <td>Manual</td>\n",
              "      <td>Second</td>\n",
              "      <td>22.3 kmpl</td>\n",
              "      <td>1248 CC</td>\n",
              "      <td>74 bhp</td>\n",
              "      <td>5.0</td>\n",
              "      <td>NaN</td>\n",
              "      <td>1.95</td>\n",
              "    </tr>\n",
              "  </tbody>\n",
              "</table>\n",
              "</div>"
            ],
            "text/plain": [
              "                                  Name    Location  ...  New_Price  Price\n",
              "0               Maruti Wagon R LXI CNG      Mumbai  ...        NaN   1.75\n",
              "1     Hyundai Creta 1.6 CRDi SX Option        Pune  ...        NaN  12.50\n",
              "2                         Honda Jazz V     Chennai  ...  8.61 Lakh   4.50\n",
              "3                    Maruti Ertiga VDI     Chennai  ...        NaN   6.00\n",
              "4      Audi A4 New 2.0 TDI Multitronic  Coimbatore  ...        NaN  17.74\n",
              "5      Hyundai EON LPG Era Plus Option   Hyderabad  ...        NaN   2.35\n",
              "6               Nissan Micra Diesel XV      Jaipur  ...        NaN   3.50\n",
              "7    Toyota Innova Crysta 2.8 GX AT 8S      Mumbai  ...    21 Lakh  17.50\n",
              "8  Volkswagen Vento Diesel Comfortline        Pune  ...        NaN   5.20\n",
              "9       Tata Indica Vista Quadrajet LS     Chennai  ...        NaN   1.95\n",
              "\n",
              "[10 rows x 13 columns]"
            ]
          },
          "metadata": {
            "tags": []
          },
          "execution_count": 20
        }
      ]
    },
    {
      "cell_type": "code",
      "metadata": {
        "id": "XDZFrwJMuYQg"
      },
      "source": [
        "df=pd.read_csv('Clean.csv')"
      ],
      "execution_count": 21,
      "outputs": []
    },
    {
      "cell_type": "code",
      "metadata": {
        "id": "0kEVLe1ruYQh",
        "outputId": "1a76c795-0b17-40d9-f448-b84a1c14e0d2"
      },
      "source": [
        "df.describe()"
      ],
      "execution_count": null,
      "outputs": [
        {
          "output_type": "execute_result",
          "data": {
            "text/html": [
              "<div>\n",
              "<style scoped>\n",
              "    .dataframe tbody tr th:only-of-type {\n",
              "        vertical-align: middle;\n",
              "    }\n",
              "\n",
              "    .dataframe tbody tr th {\n",
              "        vertical-align: top;\n",
              "    }\n",
              "\n",
              "    .dataframe thead th {\n",
              "        text-align: right;\n",
              "    }\n",
              "</style>\n",
              "<table border=\"1\" class=\"dataframe\">\n",
              "  <thead>\n",
              "    <tr style=\"text-align: right;\">\n",
              "      <th></th>\n",
              "      <th>Unnamed: 0</th>\n",
              "      <th>Year</th>\n",
              "      <th>Kilometers_Driven</th>\n",
              "      <th>Seats</th>\n",
              "      <th>Price</th>\n",
              "    </tr>\n",
              "  </thead>\n",
              "  <tbody>\n",
              "    <tr>\n",
              "      <th>count</th>\n",
              "      <td>6019.000000</td>\n",
              "      <td>6019.000000</td>\n",
              "      <td>6.019000e+03</td>\n",
              "      <td>5977.000000</td>\n",
              "      <td>6019.000000</td>\n",
              "    </tr>\n",
              "    <tr>\n",
              "      <th>mean</th>\n",
              "      <td>3009.000000</td>\n",
              "      <td>2013.358199</td>\n",
              "      <td>5.873838e+04</td>\n",
              "      <td>5.278735</td>\n",
              "      <td>9.479468</td>\n",
              "    </tr>\n",
              "    <tr>\n",
              "      <th>std</th>\n",
              "      <td>1737.679967</td>\n",
              "      <td>3.269742</td>\n",
              "      <td>9.126884e+04</td>\n",
              "      <td>0.808840</td>\n",
              "      <td>11.187917</td>\n",
              "    </tr>\n",
              "    <tr>\n",
              "      <th>min</th>\n",
              "      <td>0.000000</td>\n",
              "      <td>1998.000000</td>\n",
              "      <td>1.710000e+02</td>\n",
              "      <td>0.000000</td>\n",
              "      <td>0.440000</td>\n",
              "    </tr>\n",
              "    <tr>\n",
              "      <th>25%</th>\n",
              "      <td>1504.500000</td>\n",
              "      <td>2011.000000</td>\n",
              "      <td>3.400000e+04</td>\n",
              "      <td>5.000000</td>\n",
              "      <td>3.500000</td>\n",
              "    </tr>\n",
              "    <tr>\n",
              "      <th>50%</th>\n",
              "      <td>3009.000000</td>\n",
              "      <td>2014.000000</td>\n",
              "      <td>5.300000e+04</td>\n",
              "      <td>5.000000</td>\n",
              "      <td>5.640000</td>\n",
              "    </tr>\n",
              "    <tr>\n",
              "      <th>75%</th>\n",
              "      <td>4513.500000</td>\n",
              "      <td>2016.000000</td>\n",
              "      <td>7.300000e+04</td>\n",
              "      <td>5.000000</td>\n",
              "      <td>9.950000</td>\n",
              "    </tr>\n",
              "    <tr>\n",
              "      <th>max</th>\n",
              "      <td>6018.000000</td>\n",
              "      <td>2019.000000</td>\n",
              "      <td>6.500000e+06</td>\n",
              "      <td>10.000000</td>\n",
              "      <td>160.000000</td>\n",
              "    </tr>\n",
              "  </tbody>\n",
              "</table>\n",
              "</div>"
            ],
            "text/plain": [
              "        Unnamed: 0         Year  Kilometers_Driven        Seats        Price\n",
              "count  6019.000000  6019.000000       6.019000e+03  5977.000000  6019.000000\n",
              "mean   3009.000000  2013.358199       5.873838e+04     5.278735     9.479468\n",
              "std    1737.679967     3.269742       9.126884e+04     0.808840    11.187917\n",
              "min       0.000000  1998.000000       1.710000e+02     0.000000     0.440000\n",
              "25%    1504.500000  2011.000000       3.400000e+04     5.000000     3.500000\n",
              "50%    3009.000000  2014.000000       5.300000e+04     5.000000     5.640000\n",
              "75%    4513.500000  2016.000000       7.300000e+04     5.000000     9.950000\n",
              "max    6018.000000  2019.000000       6.500000e+06    10.000000   160.000000"
            ]
          },
          "metadata": {
            "tags": []
          },
          "execution_count": 4
        }
      ]
    },
    {
      "cell_type": "code",
      "metadata": {
        "colab": {
          "base_uri": "https://localhost:8080/",
          "height": 400
        },
        "id": "Nuzf6baZuYQk",
        "outputId": "eead5c07-8207-4590-c47a-e9a1dae46e82"
      },
      "source": [
        "df.head(5)"
      ],
      "execution_count": 23,
      "outputs": [
        {
          "output_type": "execute_result",
          "data": {
            "text/html": [
              "<div>\n",
              "<style scoped>\n",
              "    .dataframe tbody tr th:only-of-type {\n",
              "        vertical-align: middle;\n",
              "    }\n",
              "\n",
              "    .dataframe tbody tr th {\n",
              "        vertical-align: top;\n",
              "    }\n",
              "\n",
              "    .dataframe thead th {\n",
              "        text-align: right;\n",
              "    }\n",
              "</style>\n",
              "<table border=\"1\" class=\"dataframe\">\n",
              "  <thead>\n",
              "    <tr style=\"text-align: right;\">\n",
              "      <th></th>\n",
              "      <th>Name</th>\n",
              "      <th>Name_encoding</th>\n",
              "      <th>Location</th>\n",
              "      <th>Location_encoding</th>\n",
              "      <th>Year</th>\n",
              "      <th>year_encoding</th>\n",
              "      <th>Kilometers_Driven</th>\n",
              "      <th>Fuel_codes</th>\n",
              "      <th>Fuel_Type</th>\n",
              "      <th>Transmission</th>\n",
              "      <th>Transmission_codes</th>\n",
              "      <th>Owner_Type</th>\n",
              "      <th>owner_encoding</th>\n",
              "      <th>Mileage</th>\n",
              "      <th>Engine</th>\n",
              "      <th>Power</th>\n",
              "      <th>Seats</th>\n",
              "      <th>New_Price</th>\n",
              "      <th>Price</th>\n",
              "    </tr>\n",
              "  </thead>\n",
              "  <tbody>\n",
              "    <tr>\n",
              "      <th>0</th>\n",
              "      <td>Maruti Wagon R LXI CNG</td>\n",
              "      <td>1200</td>\n",
              "      <td>Mumbai</td>\n",
              "      <td>9</td>\n",
              "      <td>2010</td>\n",
              "      <td>12</td>\n",
              "      <td>72000</td>\n",
              "      <td>0</td>\n",
              "      <td>CNG</td>\n",
              "      <td>Manual</td>\n",
              "      <td>1</td>\n",
              "      <td>First</td>\n",
              "      <td>0</td>\n",
              "      <td>26.60</td>\n",
              "      <td>998</td>\n",
              "      <td>58.16</td>\n",
              "      <td>5</td>\n",
              "      <td>NaN</td>\n",
              "      <td>1.75</td>\n",
              "    </tr>\n",
              "    <tr>\n",
              "      <th>1</th>\n",
              "      <td>Hyundai Creta 1.6 CRDi SX Option</td>\n",
              "      <td>512</td>\n",
              "      <td>Pune</td>\n",
              "      <td>10</td>\n",
              "      <td>2015</td>\n",
              "      <td>17</td>\n",
              "      <td>41000</td>\n",
              "      <td>1</td>\n",
              "      <td>Diesel</td>\n",
              "      <td>Manual</td>\n",
              "      <td>1</td>\n",
              "      <td>First</td>\n",
              "      <td>0</td>\n",
              "      <td>19.67</td>\n",
              "      <td>1582</td>\n",
              "      <td>126.2</td>\n",
              "      <td>5</td>\n",
              "      <td>NaN</td>\n",
              "      <td>12.50</td>\n",
              "    </tr>\n",
              "    <tr>\n",
              "      <th>2</th>\n",
              "      <td>Honda Jazz V</td>\n",
              "      <td>486</td>\n",
              "      <td>Chennai</td>\n",
              "      <td>2</td>\n",
              "      <td>2011</td>\n",
              "      <td>13</td>\n",
              "      <td>46000</td>\n",
              "      <td>4</td>\n",
              "      <td>Petrol</td>\n",
              "      <td>Manual</td>\n",
              "      <td>1</td>\n",
              "      <td>First</td>\n",
              "      <td>0</td>\n",
              "      <td>18.20</td>\n",
              "      <td>1199</td>\n",
              "      <td>88.7</td>\n",
              "      <td>5</td>\n",
              "      <td>8.61 Lakh</td>\n",
              "      <td>4.50</td>\n",
              "    </tr>\n",
              "    <tr>\n",
              "      <th>3</th>\n",
              "      <td>Maruti Ertiga VDI</td>\n",
              "      <td>1059</td>\n",
              "      <td>Chennai</td>\n",
              "      <td>2</td>\n",
              "      <td>2012</td>\n",
              "      <td>14</td>\n",
              "      <td>87000</td>\n",
              "      <td>1</td>\n",
              "      <td>Diesel</td>\n",
              "      <td>Manual</td>\n",
              "      <td>1</td>\n",
              "      <td>First</td>\n",
              "      <td>0</td>\n",
              "      <td>20.77</td>\n",
              "      <td>1248</td>\n",
              "      <td>88.76</td>\n",
              "      <td>7</td>\n",
              "      <td>NaN</td>\n",
              "      <td>6.00</td>\n",
              "    </tr>\n",
              "    <tr>\n",
              "      <th>4</th>\n",
              "      <td>Audi A4 New 2.0 TDI Multitronic</td>\n",
              "      <td>23</td>\n",
              "      <td>Coimbatore</td>\n",
              "      <td>3</td>\n",
              "      <td>2013</td>\n",
              "      <td>15</td>\n",
              "      <td>40670</td>\n",
              "      <td>1</td>\n",
              "      <td>Diesel</td>\n",
              "      <td>Automatic</td>\n",
              "      <td>0</td>\n",
              "      <td>Second</td>\n",
              "      <td>2</td>\n",
              "      <td>15.20</td>\n",
              "      <td>1968</td>\n",
              "      <td>140.8</td>\n",
              "      <td>5</td>\n",
              "      <td>NaN</td>\n",
              "      <td>17.74</td>\n",
              "    </tr>\n",
              "  </tbody>\n",
              "</table>\n",
              "</div>"
            ],
            "text/plain": [
              "                               Name  Name_encoding  ...  New_Price  Price\n",
              "0            Maruti Wagon R LXI CNG           1200  ...        NaN   1.75\n",
              "1  Hyundai Creta 1.6 CRDi SX Option            512  ...        NaN  12.50\n",
              "2                      Honda Jazz V            486  ...  8.61 Lakh   4.50\n",
              "3                 Maruti Ertiga VDI           1059  ...        NaN   6.00\n",
              "4   Audi A4 New 2.0 TDI Multitronic             23  ...        NaN  17.74\n",
              "\n",
              "[5 rows x 19 columns]"
            ]
          },
          "metadata": {
            "tags": []
          },
          "execution_count": 23
        }
      ]
    },
    {
      "cell_type": "markdown",
      "metadata": {
        "id": "fJZKhOp_uYQm"
      },
      "source": [
        "# year encoding"
      ]
    },
    {
      "cell_type": "code",
      "metadata": {
        "id": "lg0BqTZ8uYQm",
        "outputId": "5b416d2e-08fb-41c2-b6e9-9cc304f52197"
      },
      "source": [
        "#df['Year'].unique()"
      ],
      "execution_count": null,
      "outputs": [
        {
          "output_type": "execute_result",
          "data": {
            "text/plain": [
              "array([2010, 2015, 2011, 2012, 2013, 2016, 2018, 2014, 2017, 2007, 2009,\n",
              "       2008, 2019, 2006, 2005, 2004, 2002, 2000, 2003, 1999, 2001, 1998])"
            ]
          },
          "metadata": {
            "tags": []
          },
          "execution_count": 416
        }
      ]
    },
    {
      "cell_type": "code",
      "metadata": {
        "id": "9qXLfLuouYQn"
      },
      "source": [
        "#df2=labelencoder.fit_transform(df['Year'])"
      ],
      "execution_count": null,
      "outputs": []
    },
    {
      "cell_type": "code",
      "metadata": {
        "id": "LKENu2LkuYQo"
      },
      "source": [
        "#df.insert(5,\"year_encoding\",df2,True)"
      ],
      "execution_count": null,
      "outputs": []
    },
    {
      "cell_type": "code",
      "metadata": {
        "id": "Qm71lpGRuYQp"
      },
      "source": [
        "#df['Mileage']=df['Mileage'].astype(int)"
      ],
      "execution_count": null,
      "outputs": []
    },
    {
      "cell_type": "code",
      "metadata": {
        "id": "gZY6JYoluYQp"
      },
      "source": [
        ""
      ],
      "execution_count": null,
      "outputs": []
    },
    {
      "cell_type": "code",
      "metadata": {
        "id": "xLcbEsseuYQp"
      },
      "source": [
        "#df['Mileage'].unique()"
      ],
      "execution_count": null,
      "outputs": []
    },
    {
      "cell_type": "code",
      "metadata": {
        "id": "S5fyT7OruYQs",
        "outputId": "d385ddf0-969d-47fe-b03e-1224c3d5adcb"
      },
      "source": [
        "#'null ' in df['Power']"
      ],
      "execution_count": null,
      "outputs": [
        {
          "output_type": "execute_result",
          "data": {
            "text/plain": [
              "False"
            ]
          },
          "metadata": {
            "tags": []
          },
          "execution_count": 307
        }
      ]
    },
    {
      "cell_type": "code",
      "metadata": {
        "id": "-2W1kLU7uYQt"
      },
      "source": [
        "#df['Power'].astype(float)"
      ],
      "execution_count": null,
      "outputs": []
    },
    {
      "cell_type": "markdown",
      "metadata": {
        "id": "wkCcAKdcuYQt"
      },
      "source": [
        "# Transmission encoding"
      ]
    },
    {
      "cell_type": "code",
      "metadata": {
        "id": "XA1xUJdSuYQt"
      },
      "source": [
        "#df2=labelencoder.fit_transform(df['Transmission'])"
      ],
      "execution_count": null,
      "outputs": []
    },
    {
      "cell_type": "code",
      "metadata": {
        "id": "8IYDpedIuYQu"
      },
      "source": [
        "#df.insert(11,\"Transmission_codes\",df2,True)"
      ],
      "execution_count": null,
      "outputs": []
    },
    {
      "cell_type": "code",
      "metadata": {
        "id": "bAjKJiNTuYQu"
      },
      "source": [
        "#df.drop(columns=['Unnamed: 0','Unnamed: 0.1'],inplace=True)"
      ],
      "execution_count": null,
      "outputs": []
    },
    {
      "cell_type": "markdown",
      "metadata": {
        "id": "7uTFlIn6uYQv"
      },
      "source": [
        "# carname encoding"
      ]
    },
    {
      "cell_type": "code",
      "metadata": {
        "id": "xjfQ43o-uYQw",
        "outputId": "3ed525a3-06a4-4d5c-dda4-5ae8e779d1ee"
      },
      "source": [
        "#df['Name'].shape"
      ],
      "execution_count": null,
      "outputs": [
        {
          "output_type": "execute_result",
          "data": {
            "text/plain": [
              "(6019,)"
            ]
          },
          "metadata": {
            "tags": []
          },
          "execution_count": 136
        }
      ]
    },
    {
      "cell_type": "code",
      "metadata": {
        "id": "8HP36INyuYQw"
      },
      "source": [
        "#df2=labelencoder.fit_transform(df['Name'])"
      ],
      "execution_count": null,
      "outputs": []
    },
    {
      "cell_type": "code",
      "metadata": {
        "id": "yeTIJFgZuYQw",
        "outputId": "60096305-09bf-44aa-f888-e72202d5e8e7"
      },
      "source": [
        "#df2.shape"
      ],
      "execution_count": null,
      "outputs": [
        {
          "output_type": "execute_result",
          "data": {
            "text/plain": [
              "(6019,)"
            ]
          },
          "metadata": {
            "tags": []
          },
          "execution_count": 134
        }
      ]
    },
    {
      "cell_type": "code",
      "metadata": {
        "id": "qRXpU_I7uYQx"
      },
      "source": [
        "#df.insert(2,\"Name_encoding\",df2,True)\n",
        "#clean=pd.read_csv('Clean.csv')\n",
        "#df.to_csv('Clean.csv')\n",
        "#clean.head(5)"
      ],
      "execution_count": null,
      "outputs": []
    },
    {
      "cell_type": "code",
      "metadata": {
        "id": "JzwUOuxYuYQy",
        "outputId": "e1664210-8378-4078-af39-8f2f7e025b05"
      },
      "source": [
        "#clean.head(2)\n",
        "#df['Power']=clean['Power']\n",
        "#clean['Seats'].unique()"
      ],
      "execution_count": null,
      "outputs": [
        {
          "output_type": "execute_result",
          "data": {
            "text/plain": [
              "array([ 5.,  7.,  8.,  4.,  6.,  2., nan, 10.,  9.,  0.])"
            ]
          },
          "metadata": {
            "tags": []
          },
          "execution_count": 247
        }
      ]
    },
    {
      "cell_type": "markdown",
      "metadata": {
        "id": "YyCO2FT0uYQy"
      },
      "source": [
        "# Location Encoding"
      ]
    },
    {
      "cell_type": "code",
      "metadata": {
        "id": "EKtNF7wKuYQy"
      },
      "source": [
        "#df2=df[\"Location\"]"
      ],
      "execution_count": null,
      "outputs": []
    },
    {
      "cell_type": "code",
      "metadata": {
        "id": "NtpwG3UTuYQz"
      },
      "source": [
        "#df2=labelencoder.fit_transform(df['Location'])"
      ],
      "execution_count": null,
      "outputs": []
    },
    {
      "cell_type": "code",
      "metadata": {
        "id": "3gAmN_m0uYQz"
      },
      "source": [
        "#df.insert(4,\"Location_encoding\",df2,True)"
      ],
      "execution_count": null,
      "outputs": []
    },
    {
      "cell_type": "markdown",
      "metadata": {
        "id": "ibpBugZauYQz"
      },
      "source": [
        "# Owner_Type_encoding"
      ]
    },
    {
      "cell_type": "code",
      "metadata": {
        "id": "uifqKNxKuYQz",
        "outputId": "437375e6-8110-4e21-b38f-2666cca36822"
      },
      "source": [
        "#df['Owner_Type'].unique()"
      ],
      "execution_count": null,
      "outputs": [
        {
          "output_type": "execute_result",
          "data": {
            "text/plain": [
              "array(['First', 'Second', 'Fourth & Above', 'Third'], dtype=object)"
            ]
          },
          "metadata": {
            "tags": []
          },
          "execution_count": 165
        }
      ]
    },
    {
      "cell_type": "code",
      "metadata": {
        "id": "bWgUzWjzuYQ0"
      },
      "source": [
        "#df2=labelencoder.fit_transform(df['Owner_Type'])"
      ],
      "execution_count": null,
      "outputs": []
    },
    {
      "cell_type": "code",
      "metadata": {
        "id": "zHW2F6hMuYQ0",
        "outputId": "e812d715-3f6a-4551-8c3d-fbbdd36f7e9a"
      },
      "source": [
        "#df2"
      ],
      "execution_count": null,
      "outputs": [
        {
          "output_type": "execute_result",
          "data": {
            "text/plain": [
              "array([0, 0, 0, ..., 2, 0, 0])"
            ]
          },
          "metadata": {
            "tags": []
          },
          "execution_count": 167
        }
      ]
    },
    {
      "cell_type": "code",
      "metadata": {
        "id": "ddbRK-YiuYQ0"
      },
      "source": [
        "#df.insert(11,\"owner_encoding\",df2,True)"
      ],
      "execution_count": null,
      "outputs": []
    },
    {
      "cell_type": "code",
      "metadata": {
        "id": "xNP_FlTvuYQ1"
      },
      "source": [
        "#manual =0 and automatc=1"
      ],
      "execution_count": null,
      "outputs": []
    },
    {
      "cell_type": "code",
      "metadata": {
        "id": "Y6Q4LcixuYQ2"
      },
      "source": [
        "#df3=df['Fuel_Type']"
      ],
      "execution_count": null,
      "outputs": []
    },
    {
      "cell_type": "code",
      "metadata": {
        "id": "PrgjkuiSuYQ2",
        "outputId": "62878367-ad0e-49df-e4f0-d1710f6814d1"
      },
      "source": [
        "#df['Fuel_Type'].unique()"
      ],
      "execution_count": null,
      "outputs": [
        {
          "output_type": "execute_result",
          "data": {
            "text/plain": [
              "array(['CNG', 'Diesel', 'Petrol', 'LPG', 'Electric'], dtype=object)"
            ]
          },
          "metadata": {
            "tags": []
          },
          "execution_count": 105
        }
      ]
    },
    {
      "cell_type": "code",
      "metadata": {
        "id": "aMPSXqQmuYQ2"
      },
      "source": [
        "#labelencoder=LabelEncoder()"
      ],
      "execution_count": null,
      "outputs": []
    },
    {
      "cell_type": "code",
      "metadata": {
        "id": "2xapWA0VuYQ2",
        "outputId": "02090066-0627-4210-9451-24230c657bdc"
      },
      "source": [
        "#df['Fuel_Type'].count().sum()"
      ],
      "execution_count": null,
      "outputs": [
        {
          "output_type": "execute_result",
          "data": {
            "text/plain": [
              "6019"
            ]
          },
          "metadata": {
            "tags": []
          },
          "execution_count": 107
        }
      ]
    },
    {
      "cell_type": "code",
      "metadata": {
        "id": "Ic4aRPbFuYQ3"
      },
      "source": [
        "#df2=labelencoder.fit_transform(df['Fuel_Type'])"
      ],
      "execution_count": null,
      "outputs": []
    },
    {
      "cell_type": "code",
      "metadata": {
        "id": "RrswmvF0uYQ3",
        "outputId": "d8927b38-dcd7-4cf0-d11d-633d02a577fb"
      },
      "source": [
        "#df2=np.array(df2)\n",
        "#df2.shape"
      ],
      "execution_count": null,
      "outputs": [
        {
          "output_type": "execute_result",
          "data": {
            "text/plain": [
              "(6019,)"
            ]
          },
          "metadata": {
            "tags": []
          },
          "execution_count": 109
        }
      ]
    },
    {
      "cell_type": "code",
      "metadata": {
        "id": "qo5fd3IsuYQ3"
      },
      "source": [
        "#df.insert(5,\"Fuel_codes\",df2,True)\n",
        "df['owner_encoding']=df['owner_encoding'].astype(float)"
      ],
      "execution_count": null,
      "outputs": []
    },
    {
      "cell_type": "code",
      "metadata": {
        "id": "Y-GSB7BYuYQ4",
        "outputId": "b49b204b-f7d3-4a03-f87e-4be63192f660"
      },
      "source": [
        "#df.info()"
      ],
      "execution_count": null,
      "outputs": [
        {
          "output_type": "stream",
          "text": [
            "<class 'pandas.core.frame.DataFrame'>\n",
            "RangeIndex: 6019 entries, 0 to 6018\n",
            "Data columns (total 20 columns):\n",
            " #   Column              Non-Null Count  Dtype  \n",
            "---  ------              --------------  -----  \n",
            " 0   Unnamed: 0          6019 non-null   int64  \n",
            " 1   Name                6019 non-null   object \n",
            " 2   Name_encoding       6019 non-null   float64\n",
            " 3   Location            6019 non-null   object \n",
            " 4   Location_encoding   6019 non-null   float64\n",
            " 5   Year                6019 non-null   int64  \n",
            " 6   year_encoding       6019 non-null   float64\n",
            " 7   Kilometers_Driven   6019 non-null   float64\n",
            " 8   Fuel_codes          6019 non-null   float64\n",
            " 9   Fuel_Type           6019 non-null   object \n",
            " 10  Transmission        6019 non-null   object \n",
            " 11  Transmission_codes  6019 non-null   float64\n",
            " 12  Owner_Type          6019 non-null   object \n",
            " 13  owner_encoding      6019 non-null   float64\n",
            " 14  Mileage             6019 non-null   float64\n",
            " 15  Engine              6019 non-null   float64\n",
            " 16  Power               6019 non-null   object \n",
            " 17  Seats               6019 non-null   float64\n",
            " 18  New_Price           824 non-null    object \n",
            " 19  Price               6019 non-null   float64\n",
            "dtypes: float64(11), int64(2), object(7)\n",
            "memory usage: 940.6+ KB\n"
          ],
          "name": "stdout"
        }
      ]
    },
    {
      "cell_type": "markdown",
      "metadata": {
        "id": "1T0pgAUVv-3H"
      },
      "source": [
        "I have Commented the above line of Codes, as i have already Implemted them, and as it consumes more time and resource each  time I execute the same code for preprocessing the dataFrame. Though I have processed the data and have saved the data in another csv file i.e clean.csv"
      ]
    },
    {
      "cell_type": "markdown",
      "metadata": {
        "id": "MNYXBSn0uYQ4"
      },
      "source": [
        "# model building"
      ]
    },
    {
      "cell_type": "code",
      "metadata": {
        "id": "ucNV-PpruYQ5"
      },
      "source": [
        "from sklearn.model_selection import train_test_split\n",
        "from sklearn.linear_model import LinearRegression\n",
        "import matplotlib.pyplot as plt"
      ],
      "execution_count": 25,
      "outputs": []
    },
    {
      "cell_type": "code",
      "metadata": {
        "id": "QAIEYE_quYQ5"
      },
      "source": [
        "independent=['Name_encoding','Location_encoding','year_encoding','Kilometers_Driven','Fuel_codes','Transmission_codes','owner_encoding','Mileage','Engine','Seats']\n",
        "x=df[independent]\n",
        "y=df['Price']"
      ],
      "execution_count": 26,
      "outputs": []
    },
    {
      "cell_type": "code",
      "metadata": {
        "colab": {
          "base_uri": "https://localhost:8080/"
        },
        "id": "dj_fh8jouYQ5",
        "outputId": "0c6459ed-082c-4f6f-ab9b-dd0a346af76a"
      },
      "source": [
        "x.shape"
      ],
      "execution_count": null,
      "outputs": [
        {
          "output_type": "execute_result",
          "data": {
            "text/plain": [
              "(6019, 10)"
            ]
          },
          "metadata": {
            "tags": []
          },
          "execution_count": 8
        }
      ]
    },
    {
      "cell_type": "code",
      "metadata": {
        "id": "d-eNSeAWuYQ7",
        "outputId": "ebd81281-f209-4b46-8e48-e799c19d4163"
      },
      "source": [
        "y.shape"
      ],
      "execution_count": null,
      "outputs": [
        {
          "output_type": "execute_result",
          "data": {
            "text/plain": [
              "(6019,)"
            ]
          },
          "metadata": {
            "tags": []
          },
          "execution_count": 586
        }
      ]
    },
    {
      "cell_type": "code",
      "metadata": {
        "id": "d3vaJ_30uYQ7"
      },
      "source": [
        "x_train,x_test,y_train,y_test=train_test_split(x,y,test_size=0.25,random_state=0)"
      ],
      "execution_count": 29,
      "outputs": []
    },
    {
      "cell_type": "markdown",
      "metadata": {
        "id": "diY6TtbKea97"
      },
      "source": [
        ""
      ]
    },
    {
      "cell_type": "code",
      "metadata": {
        "colab": {
          "base_uri": "https://localhost:8080/"
        },
        "id": "zUmWfke9uYQ7",
        "outputId": "7ad042a1-e40d-4b74-e6e9-4a5a105de2d1"
      },
      "source": [
        "reg=LinearRegression()\n",
        "reg.fit(x_train,y_train)"
      ],
      "execution_count": null,
      "outputs": [
        {
          "output_type": "execute_result",
          "data": {
            "text/plain": [
              "LinearRegression(copy_X=True, fit_intercept=True, n_jobs=None, normalize=False)"
            ]
          },
          "metadata": {
            "tags": []
          },
          "execution_count": 10
        }
      ]
    },
    {
      "cell_type": "code",
      "metadata": {
        "id": "6QYItAdfuYQ7"
      },
      "source": [
        "y_pred=reg.predict(x_test)"
      ],
      "execution_count": null,
      "outputs": []
    },
    {
      "cell_type": "code",
      "metadata": {
        "colab": {
          "base_uri": "https://localhost:8080/",
          "height": 52
        },
        "id": "w9hudR1JvOS-",
        "outputId": "d2306d11-8a38-46cb-a708-755128aceb64"
      },
      "source": [
        "plt.figure(figsize=(120,120))"
      ],
      "execution_count": null,
      "outputs": [
        {
          "output_type": "execute_result",
          "data": {
            "text/plain": [
              "<Figure size 8640x8640 with 0 Axes>"
            ]
          },
          "metadata": {
            "tags": []
          },
          "execution_count": 6
        },
        {
          "output_type": "display_data",
          "data": {
            "text/plain": [
              "<Figure size 8640x8640 with 0 Axes>"
            ]
          },
          "metadata": {
            "tags": []
          }
        }
      ]
    },
    {
      "cell_type": "code",
      "metadata": {
        "colab": {
          "base_uri": "https://localhost:8080/",
          "height": 452
        },
        "id": "3i26xLnbvOr_",
        "outputId": "881a50d2-f0a5-468e-d914-95d198731c33"
      },
      "source": [
        "plt.plot(x_train,y_train)"
      ],
      "execution_count": null,
      "outputs": [
        {
          "output_type": "execute_result",
          "data": {
            "text/plain": [
              "[<matplotlib.lines.Line2D at 0x7efc7f6c4e48>,\n",
              " <matplotlib.lines.Line2D at 0x7efc7f6c4f98>,\n",
              " <matplotlib.lines.Line2D at 0x7efc7f6d2128>,\n",
              " <matplotlib.lines.Line2D at 0x7efc7f6d2278>,\n",
              " <matplotlib.lines.Line2D at 0x7efc7f6d23c8>,\n",
              " <matplotlib.lines.Line2D at 0x7efc7f6d2518>,\n",
              " <matplotlib.lines.Line2D at 0x7efc7f6d2668>,\n",
              " <matplotlib.lines.Line2D at 0x7efc7f6d27b8>,\n",
              " <matplotlib.lines.Line2D at 0x7efc7f6d2908>,\n",
              " <matplotlib.lines.Line2D at 0x7efc7f6d2a58>]"
            ]
          },
          "metadata": {
            "tags": []
          },
          "execution_count": 36
        },
        {
          "output_type": "display_data",
          "data": {
            "image/png": "[encoded data removed]",
            "text/plain": [
              "<Figure size 432x288 with 1 Axes>"
            ]
          },
          "metadata": {
            "tags": [],
            "needs_background": "light"
          }
        }
      ]
    },
    {
      "cell_type": "markdown",
      "metadata": {
        "id": "DnbTGq9LuYQ8"
      },
      "source": [
        "# accuracy check"
      ]
    },
    {
      "cell_type": "code",
      "metadata": {
        "id": "x7pLL4MguYQ8"
      },
      "source": [
        "from sklearn.metrics import r2_score"
      ],
      "execution_count": null,
      "outputs": []
    },
    {
      "cell_type": "code",
      "metadata": {
        "id": "LphWZZlnuYQ9"
      },
      "source": [
        "score=r2_score(y_test,y_pred)"
      ],
      "execution_count": null,
      "outputs": []
    },
    {
      "cell_type": "code",
      "metadata": {
        "colab": {
          "base_uri": "https://localhost:8080/"
        },
        "id": "-CWaZx9_uYQ9",
        "outputId": "e0a4685e-e54b-47dd-eeae-4b0f8bf8f7ce"
      },
      "source": [
        "score"
      ],
      "execution_count": null,
      "outputs": [
        {
          "output_type": "execute_result",
          "data": {
            "text/plain": [
              "0.10009263059980444"
            ]
          },
          "metadata": {
            "tags": []
          },
          "execution_count": 14
        }
      ]
    },
    {
      "cell_type": "code",
      "metadata": {
        "id": "TSuFYpKRuYQ-"
      },
      "source": [
        "#x.head(90)"
      ],
      "execution_count": null,
      "outputs": []
    },
    {
      "cell_type": "code",
      "metadata": {
        "id": "3I4giFAZuYQ-",
        "outputId": "7d36a57b-cf19-4a5a-95be-1f6d002009b3"
      },
      "source": [
        "print(y[75])"
      ],
      "execution_count": null,
      "outputs": [
        {
          "output_type": "stream",
          "text": [
            "29.5\n"
          ],
          "name": "stdout"
        }
      ]
    },
    {
      "cell_type": "code",
      "metadata": {
        "id": "ZbV7ADB_uYQ_"
      },
      "source": [
        "v=[[24,4,16,56000,1,0,2,18.53,1968,5]]  #512,2015,41000,1,1,19.67,1582.0,5.0   1847,10,2013,64430,1,1,0,20.54,1598.0,5.0"
      ],
      "execution_count": null,
      "outputs": []
    },
    {
      "cell_type": "code",
      "metadata": {
        "id": "Qy2j_wYWuYQ_",
        "outputId": "a39e9274-1941-4a2a-ca6e-847c056072d0"
      },
      "source": [
        "print(reg.predict(v))"
      ],
      "execution_count": null,
      "outputs": [
        {
          "output_type": "stream",
          "text": [
            "[20.1936789]\n"
          ],
          "name": "stdout"
        }
      ]
    },
    {
      "cell_type": "code",
      "metadata": {
        "id": "AZQpm5N1uYRA"
      },
      "source": [
        ""
      ],
      "execution_count": null,
      "outputs": []
    },
    {
      "cell_type": "markdown",
      "metadata": {
        "id": "l_VK7ABEvxYI"
      },
      "source": [
        "# Decision Tree Regressor"
      ]
    },
    {
      "cell_type": "code",
      "metadata": {
        "id": "WwZ0RVLOuYRA"
      },
      "source": [
        "from sklearn.tree import DecisionTreeRegressor\n",
        "clf=DecisionTreeRegressor(random_state=50)"
      ],
      "execution_count": 24,
      "outputs": []
    },
    {
      "cell_type": "code",
      "metadata": {
        "colab": {
          "base_uri": "https://localhost:8080/"
        },
        "id": "RMACVY67xCy2",
        "outputId": "ceda2a90-c20e-4ad9-bd10-0101f14055ce"
      },
      "source": [
        "clf.fit(x_train,y_train)"
      ],
      "execution_count": 30,
      "outputs": [
        {
          "output_type": "execute_result",
          "data": {
            "text/plain": [
              "DecisionTreeRegressor(ccp_alpha=0.0, criterion='mse', max_depth=None,\n",
              "                      max_features=None, max_leaf_nodes=None,\n",
              "                      min_impurity_decrease=0.0, min_impurity_split=None,\n",
              "                      min_samples_leaf=1, min_samples_split=2,\n",
              "                      min_weight_fraction_leaf=0.0, presort='deprecated',\n",
              "                      random_state=50, splitter='best')"
            ]
          },
          "metadata": {
            "tags": []
          },
          "execution_count": 30
        }
      ]
    },
    {
      "cell_type": "code",
      "metadata": {
        "id": "EqwQraMnxOnD"
      },
      "source": [
        "y_pred=clf.predict(x_test)"
      ],
      "execution_count": 31,
      "outputs": []
    },
    {
      "cell_type": "code",
      "metadata": {
        "colab": {
          "base_uri": "https://localhost:8080/"
        },
        "id": "aFjcsPDqy1_d",
        "outputId": "8fb6724d-24ff-4d42-b5d7-a2d12fe02104"
      },
      "source": [
        "y_pred"
      ],
      "execution_count": 32,
      "outputs": [
        {
          "output_type": "execute_result",
          "data": {
            "text/plain": [
              "array([ 9.45,  3.6 ,  4.29, ..., 12.99,  5.5 ,  5.5 ])"
            ]
          },
          "metadata": {
            "tags": []
          },
          "execution_count": 32
        }
      ]
    },
    {
      "cell_type": "code",
      "metadata": {
        "id": "ramEY8Rzy4qy"
      },
      "source": [
        "from sklearn.metrics import r2_score"
      ],
      "execution_count": 33,
      "outputs": []
    },
    {
      "cell_type": "code",
      "metadata": {
        "colab": {
          "base_uri": "https://localhost:8080/"
        },
        "id": "QKaWmCH4zTGw",
        "outputId": "61e20032-1e6d-4955-9d5c-691c68fdf72a"
      },
      "source": [
        "r2_score(y_test,y_pred)"
      ],
      "execution_count": 34,
      "outputs": [
        {
          "output_type": "execute_result",
          "data": {
            "text/plain": [
              "0.7561333810535311"
            ]
          },
          "metadata": {
            "tags": []
          },
          "execution_count": 34
        }
      ]
    },
    {
      "cell_type": "code",
      "metadata": {
        "id": "jDzZXHylzZIe"
      },
      "source": [
        "from sklearn.metrics import mean_squared_error"
      ],
      "execution_count": null,
      "outputs": []
    },
    {
      "cell_type": "code",
      "metadata": {
        "id": "HFDdQjNp0pBv"
      },
      "source": [
        "mse =mean_squared_error(y_test,y_pred)\n",
        "rmse=np.sqrt(mse)"
      ],
      "execution_count": null,
      "outputs": []
    },
    {
      "cell_type": "code",
      "metadata": {
        "colab": {
          "base_uri": "https://localhost:8080/"
        },
        "id": "GodzX2PB0x-Q",
        "outputId": "a6f8a5e8-372d-4951-c0c1-f062904c61ab"
      },
      "source": [
        "rmse"
      ],
      "execution_count": null,
      "outputs": [
        {
          "output_type": "execute_result",
          "data": {
            "text/plain": [
              "5.45783876365908"
            ]
          },
          "metadata": {
            "tags": []
          },
          "execution_count": 75
        }
      ]
    },
    {
      "cell_type": "code",
      "metadata": {
        "colab": {
          "base_uri": "https://localhost:8080/",
          "height": 363
        },
        "id": "VOa_a0340zKW",
        "outputId": "caacf27b-8e3a-44cf-8946-2ebab1e0ade3"
      },
      "source": [
        "x_test.head(10) #inde=['Name_encoding','Location_encoding','year_encoding','Kilometers_Driven','Fuel_codes','Transmission_codes','owner_encoding','Mileage','Engine','Seats']"
      ],
      "execution_count": null,
      "outputs": [
        {
          "output_type": "execute_result",
          "data": {
            "text/html": [
              "<div>\n",
              "<style scoped>\n",
              "    .dataframe tbody tr th:only-of-type {\n",
              "        vertical-align: middle;\n",
              "    }\n",
              "\n",
              "    .dataframe tbody tr th {\n",
              "        vertical-align: top;\n",
              "    }\n",
              "\n",
              "    .dataframe thead th {\n",
              "        text-align: right;\n",
              "    }\n",
              "</style>\n",
              "<table border=\"1\" class=\"dataframe\">\n",
              "  <thead>\n",
              "    <tr style=\"text-align: right;\">\n",
              "      <th></th>\n",
              "      <th>Name_encoding</th>\n",
              "      <th>Location_encoding</th>\n",
              "      <th>year_encoding</th>\n",
              "      <th>Kilometers_Driven</th>\n",
              "      <th>Fuel_codes</th>\n",
              "      <th>Transmission_codes</th>\n",
              "      <th>owner_encoding</th>\n",
              "      <th>Mileage</th>\n",
              "      <th>Engine</th>\n",
              "      <th>Seats</th>\n",
              "    </tr>\n",
              "  </thead>\n",
              "  <tbody>\n",
              "    <tr>\n",
              "      <th>5150</th>\n",
              "      <td>921</td>\n",
              "      <td>8</td>\n",
              "      <td>16</td>\n",
              "      <td>62000</td>\n",
              "      <td>1</td>\n",
              "      <td>1</td>\n",
              "      <td>0</td>\n",
              "      <td>15.10</td>\n",
              "      <td>2179.0</td>\n",
              "      <td>7.0</td>\n",
              "    </tr>\n",
              "    <tr>\n",
              "      <th>2164</th>\n",
              "      <td>1161</td>\n",
              "      <td>5</td>\n",
              "      <td>12</td>\n",
              "      <td>86514</td>\n",
              "      <td>1</td>\n",
              "      <td>1</td>\n",
              "      <td>0</td>\n",
              "      <td>17.80</td>\n",
              "      <td>1248.0</td>\n",
              "      <td>5.0</td>\n",
              "    </tr>\n",
              "    <tr>\n",
              "      <th>1136</th>\n",
              "      <td>1855</td>\n",
              "      <td>10</td>\n",
              "      <td>14</td>\n",
              "      <td>67200</td>\n",
              "      <td>4</td>\n",
              "      <td>1</td>\n",
              "      <td>0</td>\n",
              "      <td>15.04</td>\n",
              "      <td>1598.0</td>\n",
              "      <td>5.0</td>\n",
              "    </tr>\n",
              "    <tr>\n",
              "      <th>5641</th>\n",
              "      <td>269</td>\n",
              "      <td>7</td>\n",
              "      <td>14</td>\n",
              "      <td>45840</td>\n",
              "      <td>1</td>\n",
              "      <td>0</td>\n",
              "      <td>0</td>\n",
              "      <td>11.40</td>\n",
              "      <td>2953.0</td>\n",
              "      <td>7.0</td>\n",
              "    </tr>\n",
              "    <tr>\n",
              "      <th>1515</th>\n",
              "      <td>1747</td>\n",
              "      <td>7</td>\n",
              "      <td>19</td>\n",
              "      <td>29219</td>\n",
              "      <td>1</td>\n",
              "      <td>1</td>\n",
              "      <td>0</td>\n",
              "      <td>12.99</td>\n",
              "      <td>2494.0</td>\n",
              "      <td>8.0</td>\n",
              "    </tr>\n",
              "    <tr>\n",
              "      <th>1675</th>\n",
              "      <td>391</td>\n",
              "      <td>1</td>\n",
              "      <td>16</td>\n",
              "      <td>43521</td>\n",
              "      <td>4</td>\n",
              "      <td>1</td>\n",
              "      <td>0</td>\n",
              "      <td>19.40</td>\n",
              "      <td>1198.0</td>\n",
              "      <td>5.0</td>\n",
              "    </tr>\n",
              "    <tr>\n",
              "      <th>2268</th>\n",
              "      <td>261</td>\n",
              "      <td>9</td>\n",
              "      <td>15</td>\n",
              "      <td>25984</td>\n",
              "      <td>4</td>\n",
              "      <td>1</td>\n",
              "      <td>0</td>\n",
              "      <td>15.80</td>\n",
              "      <td>1499.0</td>\n",
              "      <td>5.0</td>\n",
              "    </tr>\n",
              "    <tr>\n",
              "      <th>143</th>\n",
              "      <td>607</td>\n",
              "      <td>7</td>\n",
              "      <td>10</td>\n",
              "      <td>80759</td>\n",
              "      <td>4</td>\n",
              "      <td>1</td>\n",
              "      <td>3</td>\n",
              "      <td>17.00</td>\n",
              "      <td>1086.0</td>\n",
              "      <td>5.0</td>\n",
              "    </tr>\n",
              "    <tr>\n",
              "      <th>4646</th>\n",
              "      <td>1005</td>\n",
              "      <td>5</td>\n",
              "      <td>16</td>\n",
              "      <td>46559</td>\n",
              "      <td>4</td>\n",
              "      <td>0</td>\n",
              "      <td>0</td>\n",
              "      <td>23.10</td>\n",
              "      <td>998.0</td>\n",
              "      <td>5.0</td>\n",
              "    </tr>\n",
              "    <tr>\n",
              "      <th>5008</th>\n",
              "      <td>570</td>\n",
              "      <td>4</td>\n",
              "      <td>16</td>\n",
              "      <td>58000</td>\n",
              "      <td>1</td>\n",
              "      <td>1</td>\n",
              "      <td>0</td>\n",
              "      <td>24.00</td>\n",
              "      <td>1120.0</td>\n",
              "      <td>5.0</td>\n",
              "    </tr>\n",
              "  </tbody>\n",
              "</table>\n",
              "</div>"
            ],
            "text/plain": [
              "      Name_encoding  Location_encoding  year_encoding  ...  Mileage  Engine  Seats\n",
              "5150            921                  8             16  ...    15.10  2179.0    7.0\n",
              "2164           1161                  5             12  ...    17.80  1248.0    5.0\n",
              "1136           1855                 10             14  ...    15.04  1598.0    5.0\n",
              "5641            269                  7             14  ...    11.40  2953.0    7.0\n",
              "1515           1747                  7             19  ...    12.99  2494.0    8.0\n",
              "1675            391                  1             16  ...    19.40  1198.0    5.0\n",
              "2268            261                  9             15  ...    15.80  1499.0    5.0\n",
              "143             607                  7             10  ...    17.00  1086.0    5.0\n",
              "4646           1005                  5             16  ...    23.10   998.0    5.0\n",
              "5008            570                  4             16  ...    24.00  1120.0    5.0\n",
              "\n",
              "[10 rows x 10 columns]"
            ]
          },
          "metadata": {
            "tags": []
          },
          "execution_count": 49
        }
      ]
    },
    {
      "cell_type": "code",
      "metadata": {
        "colab": {
          "base_uri": "https://localhost:8080/"
        },
        "id": "6eeOWBOz3h4O",
        "outputId": "d83a09e3-cf5f-4f0e-d880-d27b978d3c7e"
      },
      "source": [
        "y_test.head(10)"
      ],
      "execution_count": null,
      "outputs": [
        {
          "output_type": "execute_result",
          "data": {
            "text/plain": [
              "5150     7.25\n",
              "2164     4.25\n",
              "1136     3.90\n",
              "5641     8.41\n",
              "1515    13.48\n",
              "1675     4.25\n",
              "2268     5.35\n",
              "143      1.67\n",
              "4646     3.75\n",
              "5008     3.25\n",
              "Name: Price, dtype: float64"
            ]
          },
          "metadata": {
            "tags": []
          },
          "execution_count": 54
        }
      ]
    },
    {
      "cell_type": "code",
      "metadata": {
        "colab": {
          "base_uri": "https://localhost:8080/"
        },
        "id": "5oV4TlE92r1s",
        "outputId": "017cf018-8241-447f-b726-4053e5090184"
      },
      "source": [
        "clf.predict([[1005,5,16,46559,4,0,0,23.10,998.0,5.0]])"
      ],
      "execution_count": null,
      "outputs": [
        {
          "output_type": "execute_result",
          "data": {
            "text/plain": [
              "array([4.55])"
            ]
          },
          "metadata": {
            "tags": []
          },
          "execution_count": 76
        }
      ]
    },
    {
      "cell_type": "code",
      "metadata": {
        "colab": {
          "base_uri": "https://localhost:8080/",
          "height": 439
        },
        "id": "vkAXXmIt3Ffj",
        "outputId": "47e0c418-9070-48af-c8bc-514a1e7e90df"
      },
      "source": [
        "plt.plot(x_test,y_test)\n",
        "plt.plot(x_test,y_pred,color=\"lightblue\")"
      ],
      "execution_count": null,
      "outputs": [
        {
          "output_type": "execute_result",
          "data": {
            "text/plain": [
              "[<matplotlib.lines.Line2D at 0x7efc773d3668>,\n",
              " <matplotlib.lines.Line2D at 0x7efc77393e80>,\n",
              " <matplotlib.lines.Line2D at 0x7efc77393fd0>,\n",
              " <matplotlib.lines.Line2D at 0x7efc77320160>,\n",
              " <matplotlib.lines.Line2D at 0x7efc773202b0>,\n",
              " <matplotlib.lines.Line2D at 0x7efc77320400>,\n",
              " <matplotlib.lines.Line2D at 0x7efc77320550>,\n",
              " <matplotlib.lines.Line2D at 0x7efc773206a0>,\n",
              " <matplotlib.lines.Line2D at 0x7efc773207f0>,\n",
              " <matplotlib.lines.Line2D at 0x7efc77320940>]"
            ]
          },
          "metadata": {
            "tags": []
          },
          "execution_count": 92
        },
        {
          "output_type": "display_data",
          "data": {
            "image/png": "[encoded data removed]",
            "text/plain": [
              "<Figure size 432x288 with 1 Axes>"
            ]
          },
          "metadata": {
            "tags": [],
            "needs_background": "light"
          }
        }
      ]
    },
    {
      "cell_type": "code",
      "metadata": {
        "id": "MshkcRhUqQXF"
      },
      "source": [
        ""
      ],
      "execution_count": null,
      "outputs": []
    }
  ]
}